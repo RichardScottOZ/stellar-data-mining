{
 "cells": [
  {
   "cell_type": "markdown",
   "id": "58f4f93f",
   "metadata": {
    "papermill": {
     "duration": 0.00409,
     "end_time": "2023-12-03T05:18:34.931081",
     "exception": false,
     "start_time": "2023-12-03T05:18:34.926991",
     "status": "completed"
    },
    "tags": []
   },
   "source": [
    "## Train classifiers"
   ]
  },
  {
   "cell_type": "markdown",
   "id": "bce162da",
   "metadata": {
    "papermill": {
     "duration": 0.003365,
     "end_time": "2023-12-03T05:18:34.938228",
     "exception": false,
     "start_time": "2023-12-03T05:18:34.934863",
     "status": "completed"
    },
    "tags": []
   },
   "source": [
    "If training data has been extracted from the source datasets by running the `00a-extract_training_data.ipynb` and `00b-extract_grid_data.ipynb` notebooks, set the `use_extracted_data` variable below to `True` to use this dataset instead of the pre-prepared training data from the [Zenodo repository](https://zenodo.org/record/8157691)."
   ]
  },
  {
   "cell_type": "code",
   "execution_count": 4,
   "id": "c8549c11",
   "metadata": {
    "execution": {
     "iopub.execute_input": "2023-12-03T05:18:34.946991Z",
     "iopub.status.busy": "2023-12-03T05:18:34.946506Z",
     "iopub.status.idle": "2023-12-03T05:18:34.952810Z",
     "shell.execute_reply": "2023-12-03T05:18:34.952288Z"
    },
    "papermill": {
     "duration": 0.012626,
     "end_time": "2023-12-03T05:18:34.954499",
     "exception": false,
     "start_time": "2023-12-03T05:18:34.941873",
     "status": "completed"
    },
    "tags": []
   },
   "outputs": [],
   "source": [
    "use_extracted_data = True\n"
   ]
  },
  {
   "cell_type": "code",
   "execution_count": 1,
   "id": "c82342ea",
   "metadata": {
    "execution": {
     "iopub.execute_input": "2023-12-03T05:18:34.963118Z",
     "iopub.status.busy": "2023-12-03T05:18:34.962615Z",
     "iopub.status.idle": "2023-12-03T05:18:37.113253Z",
     "shell.execute_reply": "2023-12-03T05:18:37.112449Z"
    },
    "papermill": {
     "duration": 2.156492,
     "end_time": "2023-12-03T05:18:37.114484",
     "exception": false,
     "start_time": "2023-12-03T05:18:34.957992",
     "status": "completed"
    },
    "tags": []
   },
   "outputs": [
    {
     "name": "stdout",
     "output_type": "stream",
     "text": [
      "env: PYTHONWARNINGS=ignore::FutureWarning\n"
     ]
    }
   ],
   "source": [
    "import os\n",
    "import time\n",
    "import warnings\n",
    "from datetime import timedelta\n",
    "\n",
    "import pandas as pd\n",
    "from joblib import dump\n",
    "from pulearn.bagging import BaggingPuClassifier\n",
    "from sklearn.base import clone\n",
    "from sklearn.experimental import enable_iterative_imputer\n",
    "from sklearn.impute import IterativeImputer\n",
    "from sklearn.pipeline import make_pipeline\n",
    "from sklearn.preprocessing import RobustScaler\n",
    "from sklearn.svm import SVC\n",
    "\n",
    "from lib.check_files import check_prepared_data\n",
    "from lib.pu import (\n",
    "    BASE_MODELS,\n",
    "    PU_PARAMS,\n",
    "    UNUSED_COLUMNS,\n",
    "    downsample_unlabelled,\n",
    ")\n",
    "\n",
    "# Suppress FutureWarning for some versions of Scikit-learn\n",
    "%env PYTHONWARNINGS=ignore::FutureWarning\n",
    "\n",
    "warnings.simplefilter(\"ignore\", FutureWarning)\n"
   ]
  },
  {
   "cell_type": "code",
   "execution_count": 2,
   "id": "30758c64",
   "metadata": {
    "execution": {
     "iopub.execute_input": "2023-12-03T05:18:37.122991Z",
     "iopub.status.busy": "2023-12-03T05:18:37.122525Z",
     "iopub.status.idle": "2023-12-03T05:18:37.127210Z",
     "shell.execute_reply": "2023-12-03T05:18:37.126533Z"
    },
    "papermill": {
     "duration": 0.009804,
     "end_time": "2023-12-03T05:18:37.128296",
     "exception": false,
     "start_time": "2023-12-03T05:18:37.118492",
     "status": "completed"
    },
    "tags": []
   },
   "outputs": [],
   "source": [
    "# Random seed for reproducibility\n",
    "random_seed = 1234\n",
    "\n",
    "# Number of jobs used to train model\n",
    "n_jobs = int(os.environ.get(\"N_JOBS\", 8))\n",
    "\n",
    "# Parameters for models\n",
    "imputer_params = {\n",
    "    \"random_state\": random_seed,\n",
    "    \"add_indicator\": False,\n",
    "}\n",
    "rf_params = {\"random_state\": random_seed}\n",
    "pu_params = {\n",
    "    \"n_jobs\": n_jobs,\n",
    "    \"random_state\": random_seed,\n",
    "    **PU_PARAMS\n",
    "}\n",
    "svm_params = {\n",
    "    \"kernel\": \"rbf\",\n",
    "    \"probability\": True,\n",
    "    \"random_state\": random_seed,\n",
    "}\n"
   ]
  },
  {
   "cell_type": "code",
   "execution_count": 5,
   "id": "7ebb39be",
   "metadata": {
    "execution": {
     "iopub.execute_input": "2023-12-03T05:18:37.135688Z",
     "iopub.status.busy": "2023-12-03T05:18:37.134964Z",
     "iopub.status.idle": "2023-12-03T05:18:37.141238Z",
     "shell.execute_reply": "2023-12-03T05:18:37.140553Z"
    },
    "papermill": {
     "duration": 0.011182,
     "end_time": "2023-12-03T05:18:37.142422",
     "exception": false,
     "start_time": "2023-12-03T05:18:37.131240",
     "status": "completed"
    },
    "tags": []
   },
   "outputs": [],
   "source": [
    "# Input/output files\n",
    "if use_extracted_data:\n",
    "    data_dir = \"extracted_data\"\n",
    "else:\n",
    "    data_dir = \"prepared_data\"\n",
    "    check_prepared_data(data_dir, verbose=True)\n",
    "data_filename = os.path.join(data_dir, \"training_data.csv\")\n",
    "\n",
    "output_dir = os.path.join(\"outputs\", \"Americas\")\n",
    "os.makedirs(output_dir, exist_ok=True)\n",
    "\n",
    "pu_dir = os.path.join(output_dir, \"PU\")\n",
    "os.makedirs(pu_dir, exist_ok=True)\n",
    "pu_filename = os.path.join(pu_dir, \"classifier.joblib\")\n",
    "\n",
    "svm_dir = os.path.join(output_dir, \"SVM\")\n",
    "os.makedirs(svm_dir, exist_ok=True)\n",
    "svm_filename = os.path.join(svm_dir, \"classifier.joblib\")\n"
   ]
  },
  {
   "cell_type": "code",
   "execution_count": 6,
   "id": "c0ae54cd",
   "metadata": {
    "execution": {
     "iopub.execute_input": "2023-12-03T05:18:37.150830Z",
     "iopub.status.busy": "2023-12-03T05:18:37.150270Z",
     "iopub.status.idle": "2023-12-03T05:18:37.707636Z",
     "shell.execute_reply": "2023-12-03T05:18:37.706873Z"
    },
    "papermill": {
     "duration": 0.56304,
     "end_time": "2023-12-03T05:18:37.708917",
     "exception": false,
     "start_time": "2023-12-03T05:18:37.145877",
     "status": "completed"
    },
    "tags": []
   },
   "outputs": [
    {
     "name": "stdout",
     "output_type": "stream",
     "text": [
      "region         label     \n",
      "North America  negative       57\n",
      "               positive      170\n",
      "               unlabelled    158\n",
      "South America  negative      979\n",
      "               positive      126\n",
      "               unlabelled    138\n",
      "dtype: int64\n"
     ]
    }
   ],
   "source": [
    "data = pd.read_csv(data_filename)\n",
    "\n",
    "# Restrict training data to the Americas\n",
    "data = data[data[\"region\"].isin({\"North America\", \"South America\"})]\n",
    "\n",
    "# Equal number of positive and unlabelled samples\n",
    "negatives = data[data[\"label\"] == \"negative\"]\n",
    "tmp = data[data[\"label\"] != \"negative\"]\n",
    "tmp_downsampled = downsample_unlabelled(\n",
    "    tmp,\n",
    "    random_state=random_seed,\n",
    ")\n",
    "combined = pd.concat((tmp_downsampled, negatives))\n",
    "cleaned = combined.drop(columns=list(UNUSED_COLUMNS), errors=\"ignore\")\n",
    "del tmp, tmp_downsampled\n",
    "\n",
    "print(combined.groupby([\"region\", \"label\"]).size())\n"
   ]
  },
  {
   "cell_type": "markdown",
   "id": "f28e8f39",
   "metadata": {
    "papermill": {
     "duration": 0.003563,
     "end_time": "2023-12-03T05:18:37.715994",
     "exception": false,
     "start_time": "2023-12-03T05:18:37.712431",
     "status": "completed"
    },
    "tags": []
   },
   "source": [
    "### Train the PU classifier"
   ]
  },
  {
   "cell_type": "markdown",
   "id": "bd63ddf5",
   "metadata": {
    "papermill": {
     "duration": 0.002945,
     "end_time": "2023-12-03T05:18:37.722185",
     "exception": false,
     "start_time": "2023-12-03T05:18:37.719240",
     "status": "completed"
    },
    "tags": []
   },
   "source": [
    "#### All data"
   ]
  },
  {
   "cell_type": "code",
   "execution_count": 8,
   "id": "55d73ca5",
   "metadata": {
    "execution": {
     "iopub.execute_input": "2023-12-03T05:18:37.729453Z",
     "iopub.status.busy": "2023-12-03T05:18:37.729133Z",
     "iopub.status.idle": "2023-12-03T05:18:45.543963Z",
     "shell.execute_reply": "2023-12-03T05:18:45.543374Z"
    },
    "papermill": {
     "duration": 7.819934,
     "end_time": "2023-12-03T05:18:45.545294",
     "exception": false,
     "start_time": "2023-12-03T05:18:37.725360",
     "status": "completed"
    },
    "tags": []
   },
   "outputs": [
    {
     "name": "stdout",
     "output_type": "stream",
     "text": [
      "Model training time: 0:00:03.587187\n"
     ]
    }
   ],
   "source": [
    "# Wrangle training data\n",
    "train_pu = cleaned[cleaned[\"label\"].isin({\"positive\", \"unlabelled\"})]\n",
    "x_pu = train_pu.drop(columns=\"label\")\n",
    "y_pu = train_pu[\"label\"].replace({\"positive\": 1, \"unlabelled\": 0})\n",
    "\n",
    "# Use a random forest as the base classifier\n",
    "base_model = clone(BASE_MODELS[\"randomforest\"])\n",
    "base_model.set_params(**rf_params)\n",
    "\n",
    "# Impute missing values and scale before training\n",
    "pu_model = make_pipeline(\n",
    "    IterativeImputer(**imputer_params),\n",
    "    RobustScaler(),\n",
    "    #BaggingPuClassifier(base_estimator=base_model, **pu_params),\n",
    "    BaggingPuClassifier(estimator=base_model, **pu_params),\n",
    ")\n",
    "pu_model.set_output(transform=\"pandas\")\n",
    "\n",
    "# Train model\n",
    "t0 = time.time()\n",
    "pu_model.fit(x_pu, y_pu)\n",
    "\n",
    "# Save to file\n",
    "dump(pu_model, pu_filename, compress=True)\n",
    "duration = timedelta(seconds=time.time() - t0)\n",
    "print(f\"Model training time: {duration}\")\n"
   ]
  },
  {
   "cell_type": "markdown",
   "id": "2b3ccf5f",
   "metadata": {
    "papermill": {
     "duration": 0.003177,
     "end_time": "2023-12-03T05:18:45.552069",
     "exception": false,
     "start_time": "2023-12-03T05:18:45.548892",
     "status": "completed"
    },
    "tags": []
   },
   "source": [
    "#### Separate regions"
   ]
  },
  {
   "cell_type": "code",
   "execution_count": 9,
   "id": "680f093d",
   "metadata": {
    "execution": {
     "iopub.execute_input": "2023-12-03T05:18:45.559966Z",
     "iopub.status.busy": "2023-12-03T05:18:45.559684Z",
     "iopub.status.idle": "2023-12-03T05:18:54.809546Z",
     "shell.execute_reply": "2023-12-03T05:18:54.808734Z"
    },
    "papermill": {
     "duration": 9.255771,
     "end_time": "2023-12-03T05:18:54.810849",
     "exception": false,
     "start_time": "2023-12-03T05:18:45.555078",
     "status": "completed"
    },
    "tags": []
   },
   "outputs": [
    {
     "name": "stdout",
     "output_type": "stream",
     "text": [
      "Region: North America\n",
      "label\n",
      "positive      170\n",
      "unlabelled    158\n",
      "dtype: int64\n",
      "Model training time: 0:00:02.289679\n",
      "\n",
      "Region: South America\n",
      "label\n",
      "positive      126\n",
      "unlabelled    138\n",
      "dtype: int64\n",
      "Model training time: 0:00:02.378863\n",
      "\n"
     ]
    }
   ],
   "source": [
    "for region, subset in combined.groupby(\"region\"):\n",
    "    region = str(region)\n",
    "    if (subset[\"label\"] == \"positive\").sum() < 50:\n",
    "        print(f\"Skipping region: {region}\")\n",
    "        continue\n",
    "    print(f\"Region: {region}\")\n",
    "    r = \"_\".join(region.lower().split())\n",
    "    output_subset = os.path.join(\n",
    "        pu_dir,\n",
    "        f\"classifier_{r}.joblib\",\n",
    "    )\n",
    "\n",
    "    subset = subset[subset[\"label\"].isin({\"positive\", \"unlabelled\"})]\n",
    "    subset = subset.drop(columns=list(UNUSED_COLUMNS), errors=\"ignore\")\n",
    "    print(subset.groupby(\"label\").size())\n",
    "    x_pu_subset = subset.drop(columns=\"label\")\n",
    "    y_pu_subset = subset[\"label\"].replace({\"positive\": 1, \"unlabelled\": 0})\n",
    "\n",
    "    pu_model_subset = clone(pu_model)\n",
    "    t0 = time.time()\n",
    "    pu_model_subset.fit(x_pu_subset, y_pu_subset)\n",
    "    dump(pu_model, output_subset, compress=True)\n",
    "    duration = timedelta(seconds=time.time() - t0)\n",
    "    print(f\"Model training time: {duration}\")\n",
    "\n",
    "    print(\"\")\n"
   ]
  },
  {
   "cell_type": "markdown",
   "id": "15b4ab2e",
   "metadata": {
    "papermill": {
     "duration": 0.003137,
     "end_time": "2023-12-03T05:18:54.817772",
     "exception": false,
     "start_time": "2023-12-03T05:18:54.814635",
     "status": "completed"
    },
    "tags": []
   },
   "source": [
    "### Train the SVM classifier"
   ]
  },
  {
   "cell_type": "markdown",
   "id": "186b56a9",
   "metadata": {
    "papermill": {
     "duration": 0.003645,
     "end_time": "2023-12-03T05:18:54.825064",
     "exception": false,
     "start_time": "2023-12-03T05:18:54.821419",
     "status": "completed"
    },
    "tags": []
   },
   "source": [
    "#### All data"
   ]
  },
  {
   "cell_type": "code",
   "execution_count": 10,
   "id": "2b4a61e7",
   "metadata": {
    "execution": {
     "iopub.execute_input": "2023-12-03T05:18:54.833691Z",
     "iopub.status.busy": "2023-12-03T05:18:54.833425Z",
     "iopub.status.idle": "2023-12-03T05:18:56.438484Z",
     "shell.execute_reply": "2023-12-03T05:18:56.437927Z"
    },
    "papermill": {
     "duration": 1.610932,
     "end_time": "2023-12-03T05:18:56.439675",
     "exception": false,
     "start_time": "2023-12-03T05:18:54.828743",
     "status": "completed"
    },
    "tags": []
   },
   "outputs": [
    {
     "name": "stdout",
     "output_type": "stream",
     "text": [
      "Model training time: 0:00:00.200124\n"
     ]
    }
   ],
   "source": [
    "# Wrangle training data\n",
    "train_svm = cleaned[cleaned[\"label\"].isin({\"positive\", \"negative\"})]\n",
    "x_svm = train_svm.drop(columns=\"label\")\n",
    "y_svm = train_svm[\"label\"].replace({\"positive\": 1, \"negative\": 0})\n",
    "\n",
    "# Impute missing values and scale before training\n",
    "svm_model = make_pipeline(\n",
    "    IterativeImputer(**imputer_params),\n",
    "    RobustScaler(),\n",
    "    SVC(**svm_params),\n",
    ")\n",
    "svm_model.set_output(transform=\"pandas\")\n",
    "\n",
    "# Train model\n",
    "t0 = time.time()\n",
    "svm_model.fit(x_svm, y_svm)\n",
    "\n",
    "# Save to file\n",
    "dump(svm_model, svm_filename, compress=True)\n",
    "duration = timedelta(seconds=time.time() - t0)\n",
    "print(f\"Model training time: {duration}\")\n"
   ]
  },
  {
   "cell_type": "markdown",
   "id": "e1c42b19",
   "metadata": {
    "papermill": {
     "duration": 0.003611,
     "end_time": "2023-12-03T05:18:56.447811",
     "exception": false,
     "start_time": "2023-12-03T05:18:56.444200",
     "status": "completed"
    },
    "tags": []
   },
   "source": [
    "#### Separate regions"
   ]
  },
  {
   "cell_type": "code",
   "execution_count": 11,
   "id": "4de50175",
   "metadata": {
    "execution": {
     "iopub.execute_input": "2023-12-03T05:18:56.456661Z",
     "iopub.status.busy": "2023-12-03T05:18:56.456390Z",
     "iopub.status.idle": "2023-12-03T05:18:58.304373Z",
     "shell.execute_reply": "2023-12-03T05:18:58.303822Z"
    },
    "papermill": {
     "duration": 1.853881,
     "end_time": "2023-12-03T05:18:58.305564",
     "exception": false,
     "start_time": "2023-12-03T05:18:56.451683",
     "status": "completed"
    },
    "tags": []
   },
   "outputs": [
    {
     "name": "stdout",
     "output_type": "stream",
     "text": [
      "Region: North America\n",
      "label\n",
      "negative     57\n",
      "positive    170\n",
      "dtype: int64\n",
      "Model training time: 0:00:00.036983\n",
      "\n",
      "Region: South America\n",
      "label\n",
      "negative    979\n",
      "positive    126\n",
      "dtype: int64\n",
      "Model training time: 0:00:00.071553\n",
      "\n"
     ]
    }
   ],
   "source": [
    "for region, subset in combined.groupby(\"region\"):\n",
    "    region = str(region)\n",
    "    if (subset[\"label\"] == \"positive\").sum() < 50:\n",
    "        print(f\"Skipping region: {region}\")\n",
    "        continue\n",
    "    print(f\"Region: {region}\")\n",
    "    r = \"_\".join(region.lower().split())\n",
    "    output_subset = os.path.join(\n",
    "        svm_dir,\n",
    "        f\"classifier_{r}.joblib\",\n",
    "    )\n",
    "\n",
    "    subset = subset[subset[\"label\"].isin({\"positive\", \"negative\"})]\n",
    "    subset = subset.drop(columns=list(UNUSED_COLUMNS), errors=\"ignore\")\n",
    "    print(subset.groupby(\"label\").size())\n",
    "    x_svm_subset = subset.drop(columns=\"label\")\n",
    "    y_svm_subset = subset[\"label\"].replace({\"positive\": 1, \"negative\": 0})\n",
    "\n",
    "    svm_model_subset = clone(svm_model)\n",
    "    t0 = time.time()\n",
    "    svm_model_subset.fit(x_svm_subset, y_svm_subset)\n",
    "    dump(svm_model_subset, output_subset, compress=True)\n",
    "    duration = timedelta(seconds=time.time() - t0)\n",
    "    print(f\"Model training time: {duration}\")\n",
    "\n",
    "    print(\"\")\n"
   ]
  },
  {
   "cell_type": "code",
   "execution_count": null,
   "id": "f744bcac",
   "metadata": {
    "papermill": {
     "duration": 0.003529,
     "end_time": "2023-12-03T05:18:58.313161",
     "exception": false,
     "start_time": "2023-12-03T05:18:58.309632",
     "status": "completed"
    },
    "tags": []
   },
   "outputs": [],
   "source": []
  }
 ],
 "metadata": {
  "kernelspec": {
   "display_name": "Python [conda env:sdm] *",
   "language": "python",
   "name": "conda-env-sdm-py"
  },
  "language_info": {
   "codemirror_mode": {
    "name": "ipython",
    "version": 3
   },
   "file_extension": ".py",
   "mimetype": "text/x-python",
   "name": "python",
   "nbconvert_exporter": "python",
   "pygments_lexer": "ipython3",
   "version": "3.12.5"
  },
  "papermill": {
   "default_parameters": {},
   "duration": 27.137425,
   "end_time": "2023-12-03T05:19:00.934195",
   "environment_variables": {},
   "exception": null,
   "input_path": "01-create_classifiers.ipynb",
   "output_path": "01-create_classifiers.ipynb",
   "parameters": {},
   "start_time": "2023-12-03T05:18:33.796770",
   "version": "2.4.0"
  }
 },
 "nbformat": 4,
 "nbformat_minor": 5
}
