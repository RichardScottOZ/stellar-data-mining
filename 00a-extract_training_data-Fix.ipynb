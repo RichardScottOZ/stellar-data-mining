{
 "cells": [
  {
   "cell_type": "code",
   "execution_count": 1,
   "id": "416d11e4",
   "metadata": {
    "execution": {
     "iopub.execute_input": "2023-12-02T08:14:20.702256Z",
     "iopub.status.busy": "2023-12-02T08:14:20.702100Z",
     "iopub.status.idle": "2023-12-02T08:14:22.267000Z",
     "shell.execute_reply": "2023-12-02T08:14:22.266274Z"
    },
    "papermill": {
     "duration": 1.571774,
     "end_time": "2023-12-02T08:14:22.268600",
     "exception": false,
     "start_time": "2023-12-02T08:14:20.696826",
     "status": "completed"
    },
    "tags": []
   },
   "outputs": [
    {
     "name": "stdout",
     "output_type": "stream",
     "text": [
      "env: PYTHONWARNINGS=ignore::UserWarning\n"
     ]
    }
   ],
   "source": [
    "import glob\n",
    "import os\n",
    "import tempfile\n",
    "import warnings\n",
    "\n",
    "import geopandas as gpd\n",
    "from gplately.tools import plate_isotherm_depth\n",
    "\n",
    "from lib.assign_regions import assign_regions\n",
    "from lib.calculate_convergence import run_calculate_convergence\n",
    "from lib.check_files import (\n",
    "    check_source_data,\n",
    "    check_plate_model,\n",
    ")\n",
    "from lib.combine_point_data import combine_point_data\n",
    "from lib.coregister_combined_point_data import run_coregister_combined_point_data\n",
    "from lib.coregister_crustal_thickness import run_coregister_crustal_thickness\n",
    "from lib.coregister_magnetic import coregister_magnetic\n",
    "from lib.coregister_ocean_rasters import run_coregister_ocean_rasters\n",
    "from lib.create_study_area_polygons import run_create_study_area_polygons\n",
    "from lib.erodep import calculate_erodep\n",
    "from lib.generate_unlabelled_points import generate_unlabelled_points\n",
    "from lib.misc import (\n",
    "    calculate_slab_flux,\n",
    "    calculate_water_thickness,\n",
    ")\n",
    "from lib.slab_dip import calculate_slab_dip\n",
    "\n",
    "# Suppress occasional joblib warnings\n",
    "%env PYTHONWARNINGS=ignore::UserWarning\n",
    "\n",
    "warnings.simplefilter(\"ignore\", UserWarning)\n"
   ]
  },
  {
   "cell_type": "code",
   "execution_count": 2,
   "id": "24504d52",
   "metadata": {
    "execution": {
     "iopub.execute_input": "2023-12-02T08:14:22.279434Z",
     "iopub.status.busy": "2023-12-02T08:14:22.279268Z",
     "iopub.status.idle": "2023-12-02T08:14:22.282645Z",
     "shell.execute_reply": "2023-12-02T08:14:22.282040Z"
    },
    "papermill": {
     "duration": 0.010373,
     "end_time": "2023-12-02T08:14:22.284144",
     "exception": false,
     "start_time": "2023-12-02T08:14:22.273771",
     "status": "completed"
    },
    "tags": []
   },
   "outputs": [],
   "source": [
    "random_seed = 1234\n",
    "\n",
    "n_jobs = int(os.environ.get(\"N_JOBS\", 8))\n",
    "times = range(171)\n",
    "verbose = False\n",
    "\n",
    "num_unlabelled = 200  # per timestep\n",
    "\n",
    "os.environ['CURL_CA_BUNDLE'] = ''\n"
   ]
  },
  {
   "cell_type": "markdown",
   "id": "8070f64c",
   "metadata": {
    "papermill": {
     "duration": 0.004484,
     "end_time": "2023-12-02T08:14:22.293246",
     "exception": false,
     "start_time": "2023-12-02T08:14:22.288762",
     "status": "completed"
    },
    "tags": []
   },
   "source": [
    "### Input and output files"
   ]
  },
  {
   "cell_type": "code",
   "execution_count": 3,
   "id": "8cc369d6",
   "metadata": {
    "execution": {
     "iopub.execute_input": "2023-12-02T08:14:22.303465Z",
     "iopub.status.busy": "2023-12-02T08:14:22.303311Z",
     "iopub.status.idle": "2023-12-02T08:14:22.310078Z",
     "shell.execute_reply": "2023-12-02T08:14:22.309472Z"
    },
    "papermill": {
     "duration": 0.013652,
     "end_time": "2023-12-02T08:14:22.311561",
     "exception": false,
     "start_time": "2023-12-02T08:14:22.297909",
     "status": "completed"
    },
    "tags": []
   },
   "outputs": [],
   "source": [
    "model_dir = \"plate_model\"\n",
    "#check_plate_model(model_dir, verbose=verbose)\n",
    "\n",
    "data_dir = \"source_data\"\n",
    "#check_source_data(data_dir, verbose=verbose)\n",
    "deposits_filename = os.path.join(data_dir, \"deposit_data.csv\")\n",
    "regions_filename = os.path.join(data_dir, \"regions.shp\")\n",
    "agegrid_dir = os.path.join(data_dir, \"AgeGrids\")\n",
    "sedthick_dir = os.path.join(data_dir, \"SedimentThickness\")\n",
    "carbonate_dir = os.path.join(data_dir, \"CarbonateThickness\")\n",
    "co2_dir = os.path.join(data_dir, \"CrustalCO2\")\n",
    "crustal_thickness_dir = os.path.join(data_dir, \"CrustalThickness\")\n",
    "mag_anomaly_filename = os.path.join(\n",
    "    data_dir,\n",
    "    \"MagneticAnomaly\",\n",
    "    \"emag2_upcont_interpolated.nc\",\n",
    ")\n",
    "subducted_quantities_dir = os.path.join(\n",
    "    data_dir,\n",
    "    \"SubductedQuantities\",\n",
    ")\n",
    "erodep_dir = os.path.join(data_dir, \"ErosionDeposition\")\n",
    "\n",
    "output_dir = \"extracted_data\"\n",
    "os.makedirs(output_dir, exist_ok=True)\n",
    "subduction_data_filename = os.path.join(output_dir, \"subducting_plate_data.csv\")\n",
    "study_area_dir = os.path.join(output_dir, \"study_area_polygons\")\n",
    "output_filename = os.path.join(output_dir, \"training_data.csv\")\n",
    "\n",
    "feature_filenames = glob.glob(\n",
    "    os.path.join(\n",
    "        model_dir,\n",
    "        \"*.gpml\",\n",
    "    )\n",
    ")\n",
    "rotation_filenames = glob.glob(\n",
    "    os.path.join(\n",
    "        model_dir,\n",
    "        \"*.rot\",\n",
    "    )\n",
    ")\n",
    "static_polygons_filename = os.path.join(\n",
    "    model_dir,\n",
    "    \"StaticGeometries\",\n",
    "    \"StaticPolygons\",\n",
    "    \"Clennett_2020_StaticPolygons.gpml\",\n",
    ")\n"
   ]
  },
  {
   "cell_type": "markdown",
   "id": "40319403",
   "metadata": {
    "papermill": {
     "duration": 0.004696,
     "end_time": "2023-12-02T08:54:14.367428",
     "exception": false,
     "start_time": "2023-12-02T08:54:14.362732",
     "status": "completed"
    },
    "tags": []
   },
   "source": [
    "### Calculate cumulative erosion"
   ]
  },
  {
   "cell_type": "code",
   "execution_count": 4,
   "id": "21f46276",
   "metadata": {},
   "outputs": [],
   "source": [
    "#coregistered_data.to_csv('coregistered_data_mag.csv',index=False)\n",
    "import pandas as pd\n",
    "coregistered_data = pd.read_csv('coregistered_data_mag.csv')"
   ]
  },
  {
   "cell_type": "code",
   "execution_count": 5,
   "id": "47f23804",
   "metadata": {
    "execution": {
     "iopub.execute_input": "2023-12-02T08:54:14.377901Z",
     "iopub.status.busy": "2023-12-02T08:54:14.377752Z",
     "iopub.status.idle": "2023-12-02T08:54:53.735791Z",
     "shell.execute_reply": "2023-12-02T08:54:53.734969Z"
    },
    "papermill": {
     "duration": 39.36577,
     "end_time": "2023-12-02T08:54:53.737945",
     "exception": false,
     "start_time": "2023-12-02T08:54:14.372175",
     "status": "completed"
    },
    "tags": []
   },
   "outputs": [
    {
     "name": "stdout",
     "output_type": "stream",
     "text": [
      "banana\n",
      "(37320, 57)\n",
      "(37320,)\n",
      "0 (389, 57)\n",
      "Working on 0 Ma1 (224, 57)\n",
      "Working on 1 Maextract erodep TIME: 1\n",
      "source_data/ErosionDeposition\n",
      "[]\n",
      "ERODEP_TIMES: set()\n",
      "\n"
     ]
    },
    {
     "ename": "ValueError",
     "evalue": "zero-size array to reduction operation maximum which has no identity",
     "output_type": "error",
     "traceback": [
      "\u001b[0;31m---------------------------------------------------------------------------\u001b[0m",
      "\u001b[0;31mValueError\u001b[0m                                Traceback (most recent call last)",
      "Cell \u001b[0;32mIn[5], line 2\u001b[0m\n\u001b[1;32m      1\u001b[0m verbose \u001b[38;5;241m=\u001b[39m \u001b[38;5;28;01mTrue\u001b[39;00m\n\u001b[0;32m----> 2\u001b[0m coregistered_data \u001b[38;5;241m=\u001b[39m \u001b[43mcalculate_erodep\u001b[49m\u001b[43m(\u001b[49m\n\u001b[1;32m      3\u001b[0m \u001b[43m    \u001b[49m\u001b[43mcoregistered_data\u001b[49m\u001b[43m,\u001b[49m\n\u001b[1;32m      4\u001b[0m \u001b[43m    \u001b[49m\u001b[43minput_dir\u001b[49m\u001b[38;5;241;43m=\u001b[39;49m\u001b[43merodep_dir\u001b[49m\u001b[43m,\u001b[49m\n\u001b[1;32m      5\u001b[0m \u001b[43m    \u001b[49m\u001b[43mn_jobs\u001b[49m\u001b[38;5;241;43m=\u001b[39;49m\u001b[43mn_jobs\u001b[49m\u001b[43m,\u001b[49m\n\u001b[1;32m      6\u001b[0m \u001b[43m    \u001b[49m\u001b[43mcolumn_name\u001b[49m\u001b[38;5;241;43m=\u001b[39;49m\u001b[38;5;124;43m\"\u001b[39;49m\u001b[38;5;124;43merosion (m)\u001b[39;49m\u001b[38;5;124;43m\"\u001b[39;49m\u001b[43m,\u001b[49m\n\u001b[1;32m      7\u001b[0m \u001b[43m    \u001b[49m\u001b[43mverbose\u001b[49m\u001b[38;5;241;43m=\u001b[39;49m\u001b[43mverbose\u001b[49m\u001b[43m,\u001b[49m\n\u001b[1;32m      8\u001b[0m \u001b[43m)\u001b[49m\n",
      "File \u001b[0;32m~/data/stellar-data-mining/lib/erodep/_extract_erodep.py:311\u001b[0m, in \u001b[0;36mcalculate_erodep\u001b[0;34m(data, input_dir, weighted, radius, n_jobs, metric, column_name, clip, verbose)\u001b[0m\n\u001b[1;32m    309\u001b[0m     \u001b[38;5;28;01mexcept\u001b[39;00m \u001b[38;5;167;01mException\u001b[39;00m \u001b[38;5;28;01mas\u001b[39;00m err:\n\u001b[1;32m    310\u001b[0m         \u001b[38;5;28mprint\u001b[39m(\u001b[38;5;124m\"\u001b[39m\u001b[38;5;130;01m\\n\u001b[39;00m\u001b[38;5;124m\"\u001b[39m, end\u001b[38;5;241m=\u001b[39m\u001b[38;5;124m\"\u001b[39m\u001b[38;5;124m\"\u001b[39m, flush\u001b[38;5;241m=\u001b[39m\u001b[38;5;28;01mTrue\u001b[39;00m)\n\u001b[0;32m--> 311\u001b[0m         \u001b[38;5;28;01mraise\u001b[39;00m err\n\u001b[1;32m    312\u001b[0m data \u001b[38;5;241m=\u001b[39m data\u001b[38;5;241m.\u001b[39mjoin(erodep_col)\n\u001b[1;32m    313\u001b[0m \u001b[38;5;28;01mif\u001b[39;00m clip:\n",
      "File \u001b[0;32m~/data/stellar-data-mining/lib/erodep/_extract_erodep.py:287\u001b[0m, in \u001b[0;36mcalculate_erodep\u001b[0;34m(data, input_dir, weighted, radius, n_jobs, metric, column_name, clip, verbose)\u001b[0m\n\u001b[1;32m    285\u001b[0m     point_erodep \u001b[38;5;241m=\u001b[39m np\u001b[38;5;241m.\u001b[39mfull(data_age\u001b[38;5;241m.\u001b[39mshape[\u001b[38;5;241m0\u001b[39m], \u001b[38;5;241m0.0\u001b[39m)\n\u001b[1;32m    286\u001b[0m \u001b[38;5;28;01melse\u001b[39;00m:\n\u001b[0;32m--> 287\u001b[0m     total_erodep \u001b[38;5;241m=\u001b[39m \u001b[43mextract_erodep\u001b[49m\u001b[43m(\u001b[49m\n\u001b[1;32m    288\u001b[0m \u001b[43m        \u001b[49m\u001b[43mtime\u001b[49m\u001b[38;5;241;43m=\u001b[39;49m\u001b[43mage\u001b[49m\u001b[43m,\u001b[49m\n\u001b[1;32m    289\u001b[0m \u001b[43m        \u001b[49m\u001b[38;5;28;43mdir\u001b[39;49m\u001b[38;5;241;43m=\u001b[39;49m\u001b[43minput_dir\u001b[49m\u001b[43m,\u001b[49m\n\u001b[1;32m    290\u001b[0m \u001b[43m    \u001b[49m\u001b[43m)\u001b[49m\n\u001b[1;32m    291\u001b[0m     \u001b[38;5;28mprint\u001b[39m(total_erodep)\n\u001b[1;32m    292\u001b[0m     lats, lons \u001b[38;5;241m=\u001b[39m extract_lat_lon(\u001b[38;5;28mdir\u001b[39m\u001b[38;5;241m=\u001b[39minput_dir)\n",
      "File \u001b[0;32m~/data/stellar-data-mining/lib/erodep/_extract_erodep.py:68\u001b[0m, in \u001b[0;36mextract_erodep\u001b[0;34m(time, dir)\u001b[0m\n\u001b[1;32m     66\u001b[0m \u001b[38;5;28;01mif\u001b[39;00m time \u001b[38;5;241m<\u001b[39m \u001b[38;5;241m0.0\u001b[39m:\n\u001b[1;32m     67\u001b[0m     \u001b[38;5;28;01mraise\u001b[39;00m \u001b[38;5;167;01mValueError\u001b[39;00m(\u001b[38;5;124mf\u001b[39m\u001b[38;5;124m\"\u001b[39m\u001b[38;5;124mInvalid time: \u001b[39m\u001b[38;5;132;01m{\u001b[39;00mtime\u001b[38;5;132;01m}\u001b[39;00m\u001b[38;5;124m\"\u001b[39m)\n\u001b[0;32m---> 68\u001b[0m timestep_total \u001b[38;5;241m=\u001b[39m \u001b[43m_erodep_timestep\u001b[49m\u001b[43m(\u001b[49m\u001b[43mtime\u001b[49m\u001b[38;5;241;43m=\u001b[39;49m\u001b[43mtime\u001b[49m\u001b[43m,\u001b[49m\u001b[43m \u001b[49m\u001b[38;5;28;43mdir\u001b[39;49m\u001b[38;5;241;43m=\u001b[39;49m\u001b[38;5;28;43mdir\u001b[39;49m\u001b[43m)\u001b[49m\n\u001b[1;32m     69\u001b[0m \u001b[38;5;28mprint\u001b[39m(\u001b[38;5;124m\"\u001b[39m\u001b[38;5;124mextract erodep timestep_total:\u001b[39m\u001b[38;5;124m\"\u001b[39m,timestep_total)\n\u001b[1;32m     70\u001b[0m \u001b[38;5;28;01mif\u001b[39;00m time \u001b[38;5;241m==\u001b[39m \u001b[38;5;241m0.0\u001b[39m:\n",
      "File \u001b[0;32m~/data/stellar-data-mining/lib/erodep/_extract_erodep.py:93\u001b[0m, in \u001b[0;36m_erodep_timestep\u001b[0;34m(time, dir, dt)\u001b[0m\n\u001b[1;32m     90\u001b[0m erodep_times \u001b[38;5;241m=\u001b[39m np\u001b[38;5;241m.\u001b[39marray(\u001b[38;5;28msorted\u001b[39m(erodep_times))\n\u001b[1;32m     91\u001b[0m valid_times \u001b[38;5;241m=\u001b[39m erodep_times[time \u001b[38;5;241m>\u001b[39m erodep_times]\n\u001b[0;32m---> 93\u001b[0m erodep_time \u001b[38;5;241m=\u001b[39m \u001b[43mnp\u001b[49m\u001b[38;5;241;43m.\u001b[39;49m\u001b[43mmax\u001b[49m\u001b[43m(\u001b[49m\u001b[43mvalid_times\u001b[49m\u001b[43m)\u001b[49m\n\u001b[1;32m     94\u001b[0m filename \u001b[38;5;241m=\u001b[39m filename_from_time(erodep_time, \u001b[38;5;28mdir\u001b[39m\u001b[38;5;241m=\u001b[39m\u001b[38;5;28mdir\u001b[39m)\n\u001b[1;32m     95\u001b[0m \u001b[38;5;28;01mwith\u001b[39;00m xr\u001b[38;5;241m.\u001b[39mopen_dataset(filename) \u001b[38;5;28;01mas\u001b[39;00m dset:\n",
      "File \u001b[0;32m~/miniconda3/envs/sdm/lib/python3.12/site-packages/numpy/core/fromnumeric.py:2810\u001b[0m, in \u001b[0;36mmax\u001b[0;34m(a, axis, out, keepdims, initial, where)\u001b[0m\n\u001b[1;32m   2692\u001b[0m \u001b[38;5;129m@array_function_dispatch\u001b[39m(_max_dispatcher)\n\u001b[1;32m   2693\u001b[0m \u001b[38;5;129m@set_module\u001b[39m(\u001b[38;5;124m'\u001b[39m\u001b[38;5;124mnumpy\u001b[39m\u001b[38;5;124m'\u001b[39m)\n\u001b[1;32m   2694\u001b[0m \u001b[38;5;28;01mdef\u001b[39;00m \u001b[38;5;21mmax\u001b[39m(a, axis\u001b[38;5;241m=\u001b[39m\u001b[38;5;28;01mNone\u001b[39;00m, out\u001b[38;5;241m=\u001b[39m\u001b[38;5;28;01mNone\u001b[39;00m, keepdims\u001b[38;5;241m=\u001b[39mnp\u001b[38;5;241m.\u001b[39m_NoValue, initial\u001b[38;5;241m=\u001b[39mnp\u001b[38;5;241m.\u001b[39m_NoValue,\n\u001b[1;32m   2695\u001b[0m          where\u001b[38;5;241m=\u001b[39mnp\u001b[38;5;241m.\u001b[39m_NoValue):\n\u001b[1;32m   2696\u001b[0m \u001b[38;5;250m    \u001b[39m\u001b[38;5;124;03m\"\"\"\u001b[39;00m\n\u001b[1;32m   2697\u001b[0m \u001b[38;5;124;03m    Return the maximum of an array or maximum along an axis.\u001b[39;00m\n\u001b[1;32m   2698\u001b[0m \n\u001b[0;32m   (...)\u001b[0m\n\u001b[1;32m   2808\u001b[0m \u001b[38;5;124;03m    5\u001b[39;00m\n\u001b[1;32m   2809\u001b[0m \u001b[38;5;124;03m    \"\"\"\u001b[39;00m\n\u001b[0;32m-> 2810\u001b[0m     \u001b[38;5;28;01mreturn\u001b[39;00m \u001b[43m_wrapreduction\u001b[49m\u001b[43m(\u001b[49m\u001b[43ma\u001b[49m\u001b[43m,\u001b[49m\u001b[43m \u001b[49m\u001b[43mnp\u001b[49m\u001b[38;5;241;43m.\u001b[39;49m\u001b[43mmaximum\u001b[49m\u001b[43m,\u001b[49m\u001b[43m \u001b[49m\u001b[38;5;124;43m'\u001b[39;49m\u001b[38;5;124;43mmax\u001b[39;49m\u001b[38;5;124;43m'\u001b[39;49m\u001b[43m,\u001b[49m\u001b[43m \u001b[49m\u001b[43maxis\u001b[49m\u001b[43m,\u001b[49m\u001b[43m \u001b[49m\u001b[38;5;28;43;01mNone\u001b[39;49;00m\u001b[43m,\u001b[49m\u001b[43m \u001b[49m\u001b[43mout\u001b[49m\u001b[43m,\u001b[49m\n\u001b[1;32m   2811\u001b[0m \u001b[43m                          \u001b[49m\u001b[43mkeepdims\u001b[49m\u001b[38;5;241;43m=\u001b[39;49m\u001b[43mkeepdims\u001b[49m\u001b[43m,\u001b[49m\u001b[43m \u001b[49m\u001b[43minitial\u001b[49m\u001b[38;5;241;43m=\u001b[39;49m\u001b[43minitial\u001b[49m\u001b[43m,\u001b[49m\u001b[43m \u001b[49m\u001b[43mwhere\u001b[49m\u001b[38;5;241;43m=\u001b[39;49m\u001b[43mwhere\u001b[49m\u001b[43m)\u001b[49m\n",
      "File \u001b[0;32m~/miniconda3/envs/sdm/lib/python3.12/site-packages/numpy/core/fromnumeric.py:88\u001b[0m, in \u001b[0;36m_wrapreduction\u001b[0;34m(obj, ufunc, method, axis, dtype, out, **kwargs)\u001b[0m\n\u001b[1;32m     85\u001b[0m         \u001b[38;5;28;01melse\u001b[39;00m:\n\u001b[1;32m     86\u001b[0m             \u001b[38;5;28;01mreturn\u001b[39;00m reduction(axis\u001b[38;5;241m=\u001b[39maxis, out\u001b[38;5;241m=\u001b[39mout, \u001b[38;5;241m*\u001b[39m\u001b[38;5;241m*\u001b[39mpasskwargs)\n\u001b[0;32m---> 88\u001b[0m \u001b[38;5;28;01mreturn\u001b[39;00m \u001b[43mufunc\u001b[49m\u001b[38;5;241;43m.\u001b[39;49m\u001b[43mreduce\u001b[49m\u001b[43m(\u001b[49m\u001b[43mobj\u001b[49m\u001b[43m,\u001b[49m\u001b[43m \u001b[49m\u001b[43maxis\u001b[49m\u001b[43m,\u001b[49m\u001b[43m \u001b[49m\u001b[43mdtype\u001b[49m\u001b[43m,\u001b[49m\u001b[43m \u001b[49m\u001b[43mout\u001b[49m\u001b[43m,\u001b[49m\u001b[43m \u001b[49m\u001b[38;5;241;43m*\u001b[39;49m\u001b[38;5;241;43m*\u001b[39;49m\u001b[43mpasskwargs\u001b[49m\u001b[43m)\u001b[49m\n",
      "\u001b[0;31mValueError\u001b[0m: zero-size array to reduction operation maximum which has no identity"
     ]
    }
   ],
   "source": [
    "verbose = True\n",
    "coregistered_data = calculate_erodep(\n",
    "    coregistered_data,\n",
    "    input_dir=erodep_dir,\n",
    "    n_jobs=n_jobs,\n",
    "    column_name=\"erosion (m)\",\n",
    "    verbose=verbose,\n",
    ")\n"
   ]
  },
  {
   "cell_type": "markdown",
   "id": "8b973e4e",
   "metadata": {
    "papermill": {
     "duration": 0.005668,
     "end_time": "2023-12-02T08:54:53.749448",
     "exception": false,
     "start_time": "2023-12-02T08:54:53.743780",
     "status": "completed"
    },
    "tags": []
   },
   "source": [
    "### Assign data to regions"
   ]
  },
  {
   "cell_type": "code",
   "execution_count": null,
   "id": "90f34d8b",
   "metadata": {
    "execution": {
     "iopub.execute_input": "2023-12-02T08:54:53.761308Z",
     "iopub.status.busy": "2023-12-02T08:54:53.761103Z",
     "iopub.status.idle": "2023-12-02T08:54:53.897166Z",
     "shell.execute_reply": "2023-12-02T08:54:53.896388Z"
    },
    "papermill": {
     "duration": 0.144157,
     "end_time": "2023-12-02T08:54:53.898838",
     "exception": false,
     "start_time": "2023-12-02T08:54:53.754681",
     "status": "completed"
    },
    "tags": []
   },
   "outputs": [],
   "source": [
    "points = gpd.GeoSeries.from_xy(\n",
    "    coregistered_data[\"present_lon\"],\n",
    "    coregistered_data[\"present_lat\"],\n",
    "    index=coregistered_data.index,\n",
    ")\n",
    "coregistered_data[\"region\"] = assign_regions(\n",
    "    points,\n",
    "    regions=regions_filename,\n",
    ")\n",
    "del points\n"
   ]
  },
  {
   "cell_type": "code",
   "execution_count": null,
   "id": "42c75518",
   "metadata": {
    "execution": {
     "iopub.execute_input": "2023-12-02T08:54:53.910049Z",
     "iopub.status.busy": "2023-12-02T08:54:53.909883Z",
     "iopub.status.idle": "2023-12-02T08:54:55.536714Z",
     "shell.execute_reply": "2023-12-02T08:54:55.536039Z"
    },
    "papermill": {
     "duration": 1.634336,
     "end_time": "2023-12-02T08:54:55.538366",
     "exception": false,
     "start_time": "2023-12-02T08:54:53.904030",
     "status": "completed"
    },
    "tags": []
   },
   "outputs": [],
   "source": [
    "coregistered_data.to_csv(output_filename, index=False)\n",
    "\n",
    "coregistered_data.groupby([\"source\", \"region\", \"label\"]).size()\n"
   ]
  },
  {
   "cell_type": "code",
   "execution_count": null,
   "id": "da5291f4",
   "metadata": {
    "papermill": {
     "duration": 0.00514,
     "end_time": "2023-12-02T08:54:55.549105",
     "exception": false,
     "start_time": "2023-12-02T08:54:55.543965",
     "status": "completed"
    },
    "tags": []
   },
   "outputs": [],
   "source": [
    "#!conda list"
   ]
  },
  {
   "cell_type": "code",
   "execution_count": null,
   "id": "7343c065",
   "metadata": {},
   "outputs": [],
   "source": []
  }
 ],
 "metadata": {
  "kernelspec": {
   "display_name": "Python [conda env:sdm]",
   "language": "python",
   "name": "conda-env-sdm-py"
  },
  "language_info": {
   "codemirror_mode": {
    "name": "ipython",
    "version": 3
   },
   "file_extension": ".py",
   "mimetype": "text/x-python",
   "name": "python",
   "nbconvert_exporter": "python",
   "pygments_lexer": "ipython3",
   "version": "3.12.5"
  },
  "papermill": {
   "default_parameters": {},
   "duration": 2438.447061,
   "end_time": "2023-12-02T08:54:58.273441",
   "environment_variables": {},
   "exception": null,
   "input_path": "00a-extract_training_data.ipynb",
   "output_path": "00a-extract_training_data_output.ipynb",
   "parameters": {},
   "start_time": "2023-12-02T08:14:19.826380",
   "version": "2.4.0"
  }
 },
 "nbformat": 4,
 "nbformat_minor": 5
}
