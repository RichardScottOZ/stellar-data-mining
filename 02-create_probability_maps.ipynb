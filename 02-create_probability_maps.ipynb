{
 "cells": [
  {
   "cell_type": "markdown",
   "id": "f09ddee5",
   "metadata": {
    "papermill": {
     "duration": 0.003377,
     "end_time": "2023-12-02T10:11:03.117494",
     "exception": false,
     "start_time": "2023-12-02T10:11:03.114117",
     "status": "completed"
    },
    "tags": []
   },
   "source": [
    "## Probability grids\n",
    "\n",
    "This notebook creates the time-dependent probability maps and writes them to file (`.nc` format). The notebook `01-create_classifiers.ipynb` must have been run previously."
   ]
  },
  {
   "cell_type": "code",
   "execution_count": 1,
   "id": "ec9f49db",
   "metadata": {
    "execution": {
     "iopub.execute_input": "2023-12-02T10:11:03.124123Z",
     "iopub.status.busy": "2023-12-02T10:11:03.123975Z",
     "iopub.status.idle": "2023-12-02T10:11:03.129242Z",
     "shell.execute_reply": "2023-12-02T10:11:03.128816Z"
    },
    "papermill": {
     "duration": 0.010213,
     "end_time": "2023-12-02T10:11:03.130568",
     "exception": false,
     "start_time": "2023-12-02T10:11:03.120355",
     "status": "completed"
    },
    "tags": []
   },
   "outputs": [],
   "source": [
    "use_extracted_data = True\n"
   ]
  },
  {
   "cell_type": "code",
   "execution_count": 2,
   "id": "8678b7a7",
   "metadata": {
    "execution": {
     "iopub.execute_input": "2023-12-02T10:11:03.135915Z",
     "iopub.status.busy": "2023-12-02T10:11:03.135772Z",
     "iopub.status.idle": "2023-12-02T10:11:04.990836Z",
     "shell.execute_reply": "2023-12-02T10:11:04.990361Z"
    },
    "papermill": {
     "duration": 1.859901,
     "end_time": "2023-12-02T10:11:04.992716",
     "exception": false,
     "start_time": "2023-12-02T10:11:03.132815",
     "status": "completed"
    },
    "tags": []
   },
   "outputs": [],
   "source": [
    "import os\n",
    "import time\n",
    "from datetime import timedelta\n",
    "\n",
    "import dask\n",
    "import dask.dataframe as dd\n",
    "from dask_ml.wrappers import ParallelPostFit\n",
    "from joblib import load\n",
    "\n",
    "from lib.check_files import check_prepared_data\n",
    "from lib.pu import create_probability_grids\n"
   ]
  },
  {
   "cell_type": "code",
   "execution_count": 3,
   "id": "53cac4c4",
   "metadata": {
    "execution": {
     "iopub.execute_input": "2023-12-02T10:11:04.999606Z",
     "iopub.status.busy": "2023-12-02T10:11:04.999232Z",
     "iopub.status.idle": "2023-12-02T10:11:05.005093Z",
     "shell.execute_reply": "2023-12-02T10:11:05.004699Z"
    },
    "papermill": {
     "duration": 0.010698,
     "end_time": "2023-12-02T10:11:05.006447",
     "exception": false,
     "start_time": "2023-12-02T10:11:04.995749",
     "status": "completed"
    },
    "tags": []
   },
   "outputs": [
    {
     "data": {
      "text/plain": [
       "<dask.config.set at 0x154faf613740>"
      ]
     },
     "execution_count": 3,
     "metadata": {},
     "output_type": "execute_result"
    }
   ],
   "source": [
    "n_jobs = int(os.environ.get(\"N_JOBS\", 8))\n",
    "dask.config.set(num_workers=n_jobs)\n"
   ]
  },
  {
   "cell_type": "markdown",
   "id": "0b2519c9",
   "metadata": {
    "papermill": {
     "duration": 0.002744,
     "end_time": "2023-12-02T10:11:05.012078",
     "exception": false,
     "start_time": "2023-12-02T10:11:05.009334",
     "status": "completed"
    },
    "tags": []
   },
   "source": [
    "### Load input data from file"
   ]
  },
  {
   "cell_type": "code",
   "execution_count": 4,
   "id": "5cfb3705",
   "metadata": {
    "execution": {
     "iopub.execute_input": "2023-12-02T10:11:05.018716Z",
     "iopub.status.busy": "2023-12-02T10:11:05.018570Z",
     "iopub.status.idle": "2023-12-02T10:11:15.524617Z",
     "shell.execute_reply": "2023-12-02T10:11:15.523927Z"
    },
    "papermill": {
     "duration": 10.511404,
     "end_time": "2023-12-02T10:11:15.526436",
     "exception": false,
     "start_time": "2023-12-02T10:11:05.015032",
     "status": "completed"
    },
    "tags": []
   },
   "outputs": [],
   "source": [
    "if use_extracted_data:\n",
    "    data_dir = \"extracted_data\"\n",
    "else:\n",
    "    data_dir = \"prepared_data\"\n",
    "    check_prepared_data(data_dir, verbose=True)\n",
    "data_filename = os.path.join(data_dir, \"grid_data.csv\")\n",
    "point_data = dd.read_csv(data_filename)\n",
    "\n",
    "df_out = point_data[[\"lon\", \"lat\", \"age (Ma)\"]].compute()\n"
   ]
  },
  {
   "cell_type": "markdown",
   "id": "9529131c",
   "metadata": {
    "papermill": {
     "duration": 0.003072,
     "end_time": "2023-12-02T10:11:15.533135",
     "exception": false,
     "start_time": "2023-12-02T10:11:15.530063",
     "status": "completed"
    },
    "tags": []
   },
   "source": [
    "### Calculate probabilities"
   ]
  },
  {
   "cell_type": "code",
   "execution_count": 5,
   "id": "196a6d7e",
   "metadata": {
    "execution": {
     "iopub.execute_input": "2023-12-02T10:11:15.540230Z",
     "iopub.status.busy": "2023-12-02T10:11:15.540078Z",
     "iopub.status.idle": "2023-12-02T10:14:09.334063Z",
     "shell.execute_reply": "2023-12-02T10:14:09.333217Z"
    },
    "papermill": {
     "duration": 173.799602,
     "end_time": "2023-12-02T10:14:09.335773",
     "exception": false,
     "start_time": "2023-12-02T10:11:15.536171",
     "status": "completed"
    },
    "tags": []
   },
   "outputs": [
    {
     "name": "stdout",
     "output_type": "stream",
     "text": [
      "Calculating probabilities for PU model... Done! (duration: 0:01:13.771394)\n",
      "Calculating probabilities for SVM model... Done! (duration: 0:00:11.669991)\n"
     ]
    }
   ],
   "source": [
    "output_dir = os.path.join(\"outputs\", \"Americas\")\n",
    "\n",
    "for algorithm in (\"PU\", \"SVM\"):\n",
    "    print(\n",
    "        f\"Calculating probabilities for {algorithm} model... \",\n",
    "        end=\"\",\n",
    "        flush=True,\n",
    "    )\n",
    "    t0 = time.time()\n",
    "\n",
    "    subdir = os.path.join(output_dir, algorithm)\n",
    "    model_filename = os.path.join(subdir, f\"classifier.joblib\")\n",
    "    probabilities_filename = os.path.join(\n",
    "        subdir,\n",
    "        f\"grid_probabilities.csv\",\n",
    "    )\n",
    "    model = load(model_filename)\n",
    "\n",
    "    # Set model n_jobs if possible\n",
    "    # (let dask handle parallelism at this stage)\n",
    "    try:\n",
    "        model[-1].set_params(n_jobs=1)\n",
    "    except ValueError:\n",
    "        pass\n",
    "\n",
    "    model_parallel = ParallelPostFit(model)\n",
    "\n",
    "    point_x = point_data[model.feature_names_in_]\n",
    "    p = model_parallel.predict_proba(point_x)[:, 1].ravel().compute()\n",
    "    probabilities = df_out.copy()\n",
    "    probabilities[\"probability\"] = p\n",
    "    del p\n",
    "    probabilities.to_csv(probabilities_filename, index=False)\n",
    "    del probabilities, model\n",
    "    duration = timedelta(seconds=time.time() - t0)\n",
    "    print(f\"Done! (duration: {duration})\", flush=True)\n"
   ]
  },
  {
   "cell_type": "markdown",
   "id": "dfce6d61",
   "metadata": {
    "papermill": {
     "duration": 0.003316,
     "end_time": "2023-12-02T10:14:09.343193",
     "exception": false,
     "start_time": "2023-12-02T10:14:09.339877",
     "status": "completed"
    },
    "tags": []
   },
   "source": [
    "### Create probability maps"
   ]
  },
  {
   "cell_type": "code",
   "execution_count": 6,
   "id": "1e1b3c0f",
   "metadata": {
    "execution": {
     "iopub.execute_input": "2023-12-02T10:14:09.351393Z",
     "iopub.status.busy": "2023-12-02T10:14:09.350900Z",
     "iopub.status.idle": "2023-12-02T10:23:06.041180Z",
     "shell.execute_reply": "2023-12-02T10:23:06.040350Z"
    },
    "papermill": {
     "duration": 536.699273,
     "end_time": "2023-12-02T10:23:06.045768",
     "exception": false,
     "start_time": "2023-12-02T10:14:09.346495",
     "status": "completed"
    },
    "tags": []
   },
   "outputs": [
    {
     "name": "stdout",
     "output_type": "stream",
     "text": [
      "Creating grids for PU model... Done!\n",
      "Creating grids for SVM model... Done!\n"
     ]
    }
   ],
   "source": [
    "for algorithm in (\"PU\", \"SVM\"):\n",
    "    print(\n",
    "        f\"Creating grids for {algorithm} model... \",\n",
    "        end=\"\",\n",
    "        flush=True,\n",
    "    )\n",
    "\n",
    "    subdir = os.path.join(output_dir, algorithm)\n",
    "    probabilities_filename = os.path.join(\n",
    "        subdir,\n",
    "        f\"grid_probabilities.csv\",\n",
    "    )\n",
    "    grid_output_dir = os.path.join(\n",
    "        subdir,\n",
    "        f\"probability_grids\",\n",
    "    )\n",
    "    os.makedirs(grid_output_dir, exist_ok=True)\n",
    "\n",
    "    create_probability_grids(\n",
    "        data=probabilities_filename,\n",
    "        output_dir=grid_output_dir,\n",
    "        threads=n_jobs,\n",
    "        extent=(-180, 180, -90, 90),\n",
    "    )\n",
    "    print(\"Done!\", flush=True)\n"
   ]
  },
  {
   "cell_type": "code",
   "execution_count": 7,
   "id": "269b4994",
   "metadata": {
    "papermill": {
     "duration": 0.003581,
     "end_time": "2023-12-02T10:23:06.053107",
     "exception": false,
     "start_time": "2023-12-02T10:23:06.049526",
     "status": "completed"
    },
    "tags": []
   },
   "outputs": [
    {
     "data": {
      "text/plain": [
       "'outputs/Americas/SVM/grid_probabilities.csv'"
      ]
     },
     "execution_count": 7,
     "metadata": {},
     "output_type": "execute_result"
    }
   ],
   "source": [
    "probabilities_filename"
   ]
  },
  {
   "cell_type": "code",
   "execution_count": null,
   "id": "c6af601b",
   "metadata": {},
   "outputs": [],
   "source": []
  }
 ],
 "metadata": {
  "kernelspec": {
   "display_name": "Python [conda env:sdm]",
   "language": "python",
   "name": "conda-env-sdm-py"
  },
  "language_info": {
   "codemirror_mode": {
    "name": "ipython",
    "version": 3
   },
   "file_extension": ".py",
   "mimetype": "text/x-python",
   "name": "python",
   "nbconvert_exporter": "python",
   "pygments_lexer": "ipython3",
   "version": "3.12.5"
  },
  "papermill": {
   "default_parameters": {},
   "duration": 726.461321,
   "end_time": "2023-12-02T10:23:08.775783",
   "environment_variables": {},
   "exception": null,
   "input_path": "02-create_probability_maps.ipynb",
   "output_path": "02-create_probability_maps_output.ipynb",
   "parameters": {},
   "start_time": "2023-12-02T10:11:02.314462",
   "version": "2.4.0"
  }
 },
 "nbformat": 4,
 "nbformat_minor": 5
}
